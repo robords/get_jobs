{
 "cells": [
  {
   "cell_type": "code",
   "execution_count": 5,
   "id": "27582058-4105-4bf5-9e45-7837fdaf12d3",
   "metadata": {},
   "outputs": [],
   "source": [
    "## Data analysis libraries\n",
    "import pandas as pd\n",
    "\n",
    "## Web Scraping libraries\n",
    "from selenium import webdriver\n",
    "from selenium.webdriver.common.by import By\n",
    "from selenium.webdriver.common.keys import Keys\n",
    "from bs4 import BeautifulSoup\n",
    "import time\n",
    "import random"
   ]
  },
  {
   "cell_type": "code",
   "execution_count": 2,
   "id": "0f9dd195-629d-4aeb-b5dd-3ff7d22a6a56",
   "metadata": {},
   "outputs": [],
   "source": [
    "## Following: https://www.geeksforgeeks.org/scrape-linkedin-using-selenium-and-beautiful-soup-in-python/"
   ]
  },
  {
   "cell_type": "code",
   "execution_count": 51,
   "id": "f29bec40-5464-44fc-b1bc-7f820a682930",
   "metadata": {},
   "outputs": [],
   "source": [
    "# Creating a webdriver instance\n",
    "driver = webdriver.Chrome()"
   ]
  },
  {
   "cell_type": "code",
   "execution_count": 52,
   "id": "17c7939f-2e83-472a-af76-1fafe3fbc5bb",
   "metadata": {},
   "outputs": [],
   "source": [
    "# Opening linkedIn's login page\n",
    "driver.get(\"https://linkedin.com/uas/login\")\n",
    "\n",
    "# waiting for the page to load\n",
    "time.sleep(5)\n",
    " \n"
   ]
  },
  {
   "cell_type": "markdown",
   "id": "14e73a29-94f7-4eb9-a5fe-5bafeec278cf",
   "metadata": {},
   "source": [
    "### Login through the browser...\n",
    "\n",
    "We could programmatically enter our credentials with something like the below\n",
    "\n",
    "```python\n",
    "username = driver.find_element(By.ID, \"username\")\n",
    "```"
   ]
  },
  {
   "cell_type": "code",
   "execution_count": 54,
   "id": "592d1501-8aa7-4cdf-a1ed-0a3da08eb0a3",
   "metadata": {},
   "outputs": [],
   "source": [
    "# open the jobs URL\n",
    "jobs_url = \"https://www.linkedin.com/jobs/\"\n",
    "\n",
    "driver.get(jobs_url)        # this will open the link\n",
    "\n",
    "# waiting for the page to load\n",
    "time.sleep(5)"
   ]
  },
  {
   "cell_type": "markdown",
   "id": "7c5293f0-9ad5-4f5a-8053-5e5c71d084ca",
   "metadata": {},
   "source": [
    "### Search for IDs in the page:\n",
    "\n",
    "```python\n",
    "ids = driver.find_elements(By.XPATH, '//*[@id]')\n",
    "\n",
    "for ii in ids:\n",
    "    print('Tag:  ' + ii.tag_name)\n",
    "    print('ID:  ' + ii.get_attribute('id'))\n",
    "    print('Name:  ' + str(ii.get_attribute('name')))\n",
    "```"
   ]
  },
  {
   "cell_type": "code",
   "execution_count": 68,
   "id": "1b3cf627-6b7b-466b-beab-aa2d1d37dc3d",
   "metadata": {},
   "outputs": [
    {
     "name": "stdout",
     "output_type": "stream",
     "text": [
      "Tag:  input\n",
      "ID:  jobs-search-box-keyword-id-ember1190\n",
      "Name:  \n",
      "Tag:  input\n",
      "ID:  jobs-search-box-location-id-ember1190\n",
      "Name:  \n"
     ]
    }
   ],
   "source": [
    "ids = driver.find_elements(By.XPATH, '//*[@id]')\n",
    "\n",
    "for ii in ids:\n",
    "    if 'jobs-search-box' in ii.get_attribute('id'):\n",
    "        print('Tag:  ' + ii.tag_name)\n",
    "        print('ID:  ' + ii.get_attribute('id'))\n",
    "        print('Name:  ' + str(ii.get_attribute('name')))\n",
    "        if 'jobs-search-box-keyword' in ii.get_attribute('id'):\n",
    "            search_keyword_id = ii.get_attribute('id')\n",
    "        if 'jobs-search-box-location' in ii.get_attribute('id'):\n",
    "            location_keyword_id = ii.get_attribute('id')"
   ]
  },
  {
   "cell_type": "code",
   "execution_count": 69,
   "id": "332ecb70-06ff-48e7-b94f-3521175a87fb",
   "metadata": {},
   "outputs": [],
   "source": [
    "# entering search term\n",
    "search_term = driver.find_element(By.ID, search_keyword_id)\n",
    "search_term.clear()\n",
    "search_term.send_keys(\"data_scientist\")\n",
    "search_term = driver.find_element(By.ID, search_keyword_id)\n",
    "search_term.send_keys(Keys.RETURN)\n",
    "\n",
    "# waiting for the page to load\n",
    "time.sleep(5)"
   ]
  },
  {
   "cell_type": "code",
   "execution_count": 70,
   "id": "d7095a7c-aab4-4bcb-9b08-913966d4b594",
   "metadata": {},
   "outputs": [],
   "source": [
    "location_term = driver.find_element(By.ID, location_keyword_id) \n",
    "location_term.clear()\n",
    "location_term.send_keys(\"New York, United States\")\n",
    "location_term.send_keys(Keys.RETURN)"
   ]
  },
  {
   "cell_type": "markdown",
   "id": "1ddbc8a0-9e79-4087-b0c2-31db76c6f335",
   "metadata": {},
   "source": [
    "### Parse the search results page"
   ]
  },
  {
   "cell_type": "code",
   "execution_count": 71,
   "id": "3d5ae4c4-3bf5-42bd-960d-ec0800a62b48",
   "metadata": {},
   "outputs": [],
   "source": [
    "def assemble_page_of_listings(soup):\n",
    "\n",
    "\n",
    "    job_ids = []\n",
    "    job_titles = []\n",
    "    job_company = []\n",
    "    job_location = []\n",
    "    job_salaries = []\n",
    "    \n",
    "    for tag in soup.find_all(class_=\"job-card-list\"):\n",
    "        job_ids.append(tag.get('data-job-id'))\n",
    "        (job_titles.append(soup.find('div', {'data-job-id': tag.get('data-job-id')})\n",
    "                           .find('a', {'class': 'job-card-list__title'}).text.strip()))\n",
    "        ## The company for the job is under the job-card-container__primary-description\n",
    "        (job_company.append(soup.find('div', {'data-job-id': tag.get('data-job-id')})\n",
    "                            .find('span', {'class': 'job-card-container__primary-description'}).text.strip()))\n",
    "        ## The first item in the metadata is typically the job location:\n",
    "        (job_location.append(soup.find('div', {'data-job-id': tag.get('data-job-id')})\n",
    "                           .find('li', {'class': 'job-card-container__metadata-item'}).text.strip())) \n",
    "        ## The second item in the list, if present, will be the salary\n",
    "        try:\n",
    "            job_salary = (soup.find('div', {'data-job-id': tag.get('data-job-id')})\n",
    "                               .find_all('li', {'class': 'job-card-container__metadata-item'})[1].text.strip())\n",
    "            if \"$\" in job_salary: # if the second metadata point has a dollar sign\n",
    "                if \"-\" in job_salary:  # If it's a salary range\n",
    "                    # strip everything after the second \"/yr\"\n",
    "                    job_salaries.append(\"\".join(job_salary.split(\"/yr\", 2)[:2]))\n",
    "                if (\"-\" not in job_salary) and \"yr\" in job_salary:\n",
    "                    # strip everything after the first \"/yr\"\n",
    "                    job_salaries.append(\"\".join(job_salary.split(\"/yr\", 2)[:2]))\n",
    "            else:\n",
    "                job_salaries.append(\"No_Salary_Listed\")\n",
    "        except IndexError:\n",
    "            job_salaries.append(\"No_Salary_Listed\")\n",
    "\n",
    "    job_listings = pd.DataFrame(list(zip(job_ids, job_titles, job_company, job_location, job_salaries)),\n",
    "               columns =['Job_ID', 'Title', 'Company', 'Location', 'Salary'])\n",
    "    return job_listings"
   ]
  },
  {
   "cell_type": "code",
   "execution_count": 72,
   "id": "61f9ae51-d621-454a-bbef-d830fb048ac4",
   "metadata": {},
   "outputs": [],
   "source": [
    "src = driver.page_source\n",
    "\n",
    "# Now using beautiful soup\n",
    "soup = BeautifulSoup(src, \"html.parser\")\n",
    "\n",
    "job_listings = assemble_page_of_listings(soup)"
   ]
  },
  {
   "cell_type": "code",
   "execution_count": 73,
   "id": "49009acc-37e8-46c2-bbbe-f9089d8c257b",
   "metadata": {},
   "outputs": [
    {
     "data": {
      "text/html": [
       "<div>\n",
       "<style scoped>\n",
       "    .dataframe tbody tr th:only-of-type {\n",
       "        vertical-align: middle;\n",
       "    }\n",
       "\n",
       "    .dataframe tbody tr th {\n",
       "        vertical-align: top;\n",
       "    }\n",
       "\n",
       "    .dataframe thead th {\n",
       "        text-align: right;\n",
       "    }\n",
       "</style>\n",
       "<table border=\"1\" class=\"dataframe\">\n",
       "  <thead>\n",
       "    <tr style=\"text-align: right;\">\n",
       "      <th></th>\n",
       "      <th>Job_ID</th>\n",
       "      <th>Title</th>\n",
       "      <th>Company</th>\n",
       "      <th>Location</th>\n",
       "      <th>Salary</th>\n",
       "    </tr>\n",
       "  </thead>\n",
       "  <tbody>\n",
       "    <tr>\n",
       "      <th>0</th>\n",
       "      <td>3730709243</td>\n",
       "      <td>Specialist Solutions Architect - Machine Learn...</td>\n",
       "      <td>Databricks</td>\n",
       "      <td>New York, NY (Remote)</td>\n",
       "      <td>$139K - $248K</td>\n",
       "    </tr>\n",
       "    <tr>\n",
       "      <th>1</th>\n",
       "      <td>3725824958</td>\n",
       "      <td>Software Engineer, Machine Learning - Monetiza...</td>\n",
       "      <td>Meta</td>\n",
       "      <td>New York, NY</td>\n",
       "      <td>$172K - $241K</td>\n",
       "    </tr>\n",
       "    <tr>\n",
       "      <th>2</th>\n",
       "      <td>3726531301</td>\n",
       "      <td>Data Engineering Manager</td>\n",
       "      <td>HelloFresh</td>\n",
       "      <td>New York, NY</td>\n",
       "      <td>$170K - $220K</td>\n",
       "    </tr>\n",
       "    <tr>\n",
       "      <th>3</th>\n",
       "      <td>3720387716</td>\n",
       "      <td>Senior Applied Scientist, Sponsored Products</td>\n",
       "      <td>Amazon</td>\n",
       "      <td>New York, NY</td>\n",
       "      <td>$136K - $260K</td>\n",
       "    </tr>\n",
       "    <tr>\n",
       "      <th>4</th>\n",
       "      <td>3719409171</td>\n",
       "      <td>AI/ML Data Scientist</td>\n",
       "      <td>Experfy</td>\n",
       "      <td>United States (Remote)</td>\n",
       "      <td>No_Salary_Listed</td>\n",
       "    </tr>\n",
       "    <tr>\n",
       "      <th>5</th>\n",
       "      <td>3689653323</td>\n",
       "      <td>Senior Product Manager, Generative Artificial ...</td>\n",
       "      <td>MongoDB</td>\n",
       "      <td>New York, NY</td>\n",
       "      <td>No_Salary_Listed</td>\n",
       "    </tr>\n",
       "    <tr>\n",
       "      <th>6</th>\n",
       "      <td>3726772383</td>\n",
       "      <td>Site Reliability Manager - Oracle Health Data ...</td>\n",
       "      <td>Oracle</td>\n",
       "      <td>United States (Remote)</td>\n",
       "      <td>No_Salary_Listed</td>\n",
       "    </tr>\n",
       "  </tbody>\n",
       "</table>\n",
       "</div>"
      ],
      "text/plain": [
       "       Job_ID                                              Title     Company  \\\n",
       "0  3730709243  Specialist Solutions Architect - Machine Learn...  Databricks   \n",
       "1  3725824958  Software Engineer, Machine Learning - Monetiza...        Meta   \n",
       "2  3726531301                           Data Engineering Manager  HelloFresh   \n",
       "3  3720387716       Senior Applied Scientist, Sponsored Products      Amazon   \n",
       "4  3719409171                               AI/ML Data Scientist     Experfy   \n",
       "5  3689653323  Senior Product Manager, Generative Artificial ...     MongoDB   \n",
       "6  3726772383  Site Reliability Manager - Oracle Health Data ...      Oracle   \n",
       "\n",
       "                 Location            Salary  \n",
       "0   New York, NY (Remote)     $139K - $248K  \n",
       "1            New York, NY     $172K - $241K  \n",
       "2            New York, NY     $170K - $220K  \n",
       "3            New York, NY     $136K - $260K  \n",
       "4  United States (Remote)  No_Salary_Listed  \n",
       "5            New York, NY  No_Salary_Listed  \n",
       "6  United States (Remote)  No_Salary_Listed  "
      ]
     },
     "execution_count": 73,
     "metadata": {},
     "output_type": "execute_result"
    }
   ],
   "source": [
    "job_listings"
   ]
  },
  {
   "cell_type": "markdown",
   "id": "552c46d1-5af2-4d14-9842-2c04927a580f",
   "metadata": {},
   "source": [
    "### Click into an individual Item\n",
    "\n",
    "```python\n",
    "clickable = driver.findElement(By.id(\"clickable\"));\n",
    "clickable.click()\n",
    "```"
   ]
  },
  {
   "cell_type": "markdown",
   "id": "513cd254-b60f-4ede-8b9f-0abc5635d637",
   "metadata": {},
   "source": [
    "## Scroll on the search results page and get the next set of results"
   ]
  },
  {
   "cell_type": "code",
   "execution_count": null,
   "id": "89ecbc16-917b-4c0b-8255-6c63f89d66fb",
   "metadata": {},
   "outputs": [],
   "source": [
    "# no_of_jobs = int(driver.find_element_by_css_selector(‘h1>span’).get_attribute(‘innerText’))"
   ]
  },
  {
   "cell_type": "code",
   "execution_count": null,
   "id": "865afd34-ea8d-47b1-a020-b932bb0220a1",
   "metadata": {},
   "outputs": [],
   "source": [
    "# no_of_jobs"
   ]
  },
  {
   "cell_type": "code",
   "execution_count": 98,
   "id": "1ea4322c-1c58-4f52-868d-0770bdf5dd6c",
   "metadata": {},
   "outputs": [
    {
     "data": {
      "text/plain": [
       "'\\ni = 2\\nwhile i <= int(no_of_jobs/25)+1: \\n    wd.execute_script(“window.scrollTo(0, document.body.scrollHeight);”)\\n     i = i + 1\\n     try:\\n     wd.find_element_by_xpath\\n(‘/html/body/main/div/section/button’).click()\\n     time.sleep(5)\\n     except:\\n         pass\\n         time.sleep(5)\\n'"
      ]
     },
     "execution_count": 98,
     "metadata": {},
     "output_type": "execute_result"
    }
   ],
   "source": [
    "'''\n",
    "i = 2\n",
    "while i <= int(no_of_jobs/25)+1: \n",
    "    wd.execute_script(“window.scrollTo(0, document.body.scrollHeight);”)\n",
    "     i = i + 1\n",
    "     try:\n",
    "     wd.find_element_by_xpath\n",
    "(‘/html/body/main/div/section/button’).click()\n",
    "     time.sleep(5)\n",
    "     except:\n",
    "         pass\n",
    "         time.sleep(5)\n",
    "'''"
   ]
  },
  {
   "cell_type": "markdown",
   "id": "823752ee-12a7-498b-9fff-4544910c1f87",
   "metadata": {},
   "source": [
    "## Click the next page"
   ]
  },
  {
   "cell_type": "code",
   "execution_count": null,
   "id": "9df93e67-ec97-4b7e-b064-21c1abc05635",
   "metadata": {},
   "outputs": [],
   "source": []
  },
  {
   "cell_type": "markdown",
   "id": "9c2db057-1d44-41b0-857d-e0f3954ef705",
   "metadata": {},
   "source": [
    "## Go to each page and get the job text\n"
   ]
  },
  {
   "cell_type": "code",
   "execution_count": 93,
   "id": "24c1e23f-b02c-4862-8d55-8413def9caf2",
   "metadata": {},
   "outputs": [],
   "source": [
    "def get_job_description(job_id = '3722171802'):\n",
    "    # open the jobs URL\n",
    "    job_url = f\"https://www.linkedin.com/jobs/view/{job_id}/\"\n",
    "    driver.get(job_url)        # this will open the link\n",
    "    \n",
    "    # waiting for the page to load\n",
    "    time.sleep(random.randint(4, 7))  ## Wait a random amount of time between 4 and 9 seconds\n",
    "\n",
    "    # Open up the job description\n",
    "    see_job_description = driver.find_element(By.CLASS_NAME, \"jobs-description__footer-button\")\n",
    "    see_job_description.click()\n",
    "\n",
    "    src = driver.page_source\n",
    "    soup = BeautifulSoup(src, \"html.parser\")\n",
    "\n",
    "    # Get the job description\n",
    "    job_description = soup.find('div', {'class':\"jobs-box__html-content\"}).text.strip()\n",
    "\n",
    "    return job_description, job_url"
   ]
  },
  {
   "cell_type": "code",
   "execution_count": 94,
   "id": "f3b6c4bb-07ee-4fbb-8f7a-a62b6ba1e531",
   "metadata": {},
   "outputs": [],
   "source": [
    "def append_job_description(df):\n",
    "    # iterate through each row and select, get the job ID, add append it to a list\n",
    "    job_descriptions = []\n",
    "    job_urls = []\n",
    "    for ind in df.index:\n",
    "        print(f'Index: {ind}, For Job ID: {df.Job_ID[ind]}, Title: {df.Title[ind]}')\n",
    "        description, job_url = get_job_description(df['Job_ID'][ind])\n",
    "        job_descriptions.append(description)\n",
    "        job_urls.append(job_url)\n",
    "\n",
    "    # add the list to the dataframe as a new column\n",
    "    df['Job_URL'] = job_urls\n",
    "    df['Job_Description'] = job_descriptions\n",
    "    \n",
    "    return df"
   ]
  },
  {
   "cell_type": "code",
   "execution_count": 95,
   "id": "f7008bbe-7f5c-4f69-9476-dd286605468a",
   "metadata": {},
   "outputs": [
    {
     "name": "stdout",
     "output_type": "stream",
     "text": [
      "Index: 0, For Job ID: 3730709243, Title: Specialist Solutions Architect - Machine Learning (Manufacturing)\n",
      "Index: 1, For Job ID: 3725824958, Title: Software Engineer, Machine Learning - Monetization\n",
      "Index: 2, For Job ID: 3726531301, Title: Data Engineering Manager\n",
      "Index: 3, For Job ID: 3720387716, Title: Senior Applied Scientist, Sponsored Products\n",
      "Index: 4, For Job ID: 3719409171, Title: AI/ML Data Scientist\n",
      "Index: 5, For Job ID: 3689653323, Title: Senior Product Manager, Generative Artificial Intelligence (GenAI)\n",
      "Index: 6, For Job ID: 3726772383, Title: Site Reliability Manager - Oracle Health Data & Intelligence Platform\n"
     ]
    }
   ],
   "source": [
    "job_listings_with_description = append_job_description(job_listings)"
   ]
  },
  {
   "cell_type": "code",
   "execution_count": 96,
   "id": "9654803e-bae7-4198-a6fd-a2d84ebbf24c",
   "metadata": {},
   "outputs": [
    {
     "data": {
      "text/html": [
       "<div>\n",
       "<style scoped>\n",
       "    .dataframe tbody tr th:only-of-type {\n",
       "        vertical-align: middle;\n",
       "    }\n",
       "\n",
       "    .dataframe tbody tr th {\n",
       "        vertical-align: top;\n",
       "    }\n",
       "\n",
       "    .dataframe thead th {\n",
       "        text-align: right;\n",
       "    }\n",
       "</style>\n",
       "<table border=\"1\" class=\"dataframe\">\n",
       "  <thead>\n",
       "    <tr style=\"text-align: right;\">\n",
       "      <th></th>\n",
       "      <th>Job_ID</th>\n",
       "      <th>Title</th>\n",
       "      <th>Company</th>\n",
       "      <th>Location</th>\n",
       "      <th>Salary</th>\n",
       "      <th>Job_Description</th>\n",
       "      <th>Job_URL</th>\n",
       "    </tr>\n",
       "  </thead>\n",
       "  <tbody>\n",
       "    <tr>\n",
       "      <th>0</th>\n",
       "      <td>3730709243</td>\n",
       "      <td>Specialist Solutions Architect - Machine Learn...</td>\n",
       "      <td>Databricks</td>\n",
       "      <td>New York, NY (Remote)</td>\n",
       "      <td>$139K - $248K</td>\n",
       "      <td>About the job\\n            \\n\\n \\nFEQ124R39Thi...</td>\n",
       "      <td>https://www.linkedin.com/jobs/view/3730709243/</td>\n",
       "    </tr>\n",
       "    <tr>\n",
       "      <th>1</th>\n",
       "      <td>3725824958</td>\n",
       "      <td>Software Engineer, Machine Learning - Monetiza...</td>\n",
       "      <td>Meta</td>\n",
       "      <td>New York, NY</td>\n",
       "      <td>$172K - $241K</td>\n",
       "      <td>About the job\\n            \\n\\n \\nFrom making ...</td>\n",
       "      <td>https://www.linkedin.com/jobs/view/3725824958/</td>\n",
       "    </tr>\n",
       "    <tr>\n",
       "      <th>2</th>\n",
       "      <td>3726531301</td>\n",
       "      <td>Data Engineering Manager</td>\n",
       "      <td>HelloFresh</td>\n",
       "      <td>New York, NY</td>\n",
       "      <td>$170K - $220K</td>\n",
       "      <td>About the job\\n            \\n\\n \\nThe roleWe a...</td>\n",
       "      <td>https://www.linkedin.com/jobs/view/3726531301/</td>\n",
       "    </tr>\n",
       "    <tr>\n",
       "      <th>3</th>\n",
       "      <td>3720387716</td>\n",
       "      <td>Senior Applied Scientist, Sponsored Products</td>\n",
       "      <td>Amazon</td>\n",
       "      <td>New York, NY</td>\n",
       "      <td>$136K - $260K</td>\n",
       "      <td>About the job\\n            \\n\\n \\nDescriptionA...</td>\n",
       "      <td>https://www.linkedin.com/jobs/view/3720387716/</td>\n",
       "    </tr>\n",
       "    <tr>\n",
       "      <th>4</th>\n",
       "      <td>3719409171</td>\n",
       "      <td>AI/ML Data Scientist</td>\n",
       "      <td>Experfy</td>\n",
       "      <td>United States (Remote)</td>\n",
       "      <td>No_Salary_Listed</td>\n",
       "      <td>About the job\\n            \\n\\n \\nThis is a 10...</td>\n",
       "      <td>https://www.linkedin.com/jobs/view/3719409171/</td>\n",
       "    </tr>\n",
       "    <tr>\n",
       "      <th>5</th>\n",
       "      <td>3689653323</td>\n",
       "      <td>Senior Product Manager, Generative Artificial ...</td>\n",
       "      <td>MongoDB</td>\n",
       "      <td>New York, NY</td>\n",
       "      <td>No_Salary_Listed</td>\n",
       "      <td>About the job\\n            \\n\\n \\nThe worldwid...</td>\n",
       "      <td>https://www.linkedin.com/jobs/view/3689653323/</td>\n",
       "    </tr>\n",
       "    <tr>\n",
       "      <th>6</th>\n",
       "      <td>3726772383</td>\n",
       "      <td>Site Reliability Manager - Oracle Health Data ...</td>\n",
       "      <td>Oracle</td>\n",
       "      <td>United States (Remote)</td>\n",
       "      <td>No_Salary_Listed</td>\n",
       "      <td>About the job\\n            \\n\\n \\nJob Descript...</td>\n",
       "      <td>https://www.linkedin.com/jobs/view/3726772383/</td>\n",
       "    </tr>\n",
       "  </tbody>\n",
       "</table>\n",
       "</div>"
      ],
      "text/plain": [
       "       Job_ID                                              Title     Company  \\\n",
       "0  3730709243  Specialist Solutions Architect - Machine Learn...  Databricks   \n",
       "1  3725824958  Software Engineer, Machine Learning - Monetiza...        Meta   \n",
       "2  3726531301                           Data Engineering Manager  HelloFresh   \n",
       "3  3720387716       Senior Applied Scientist, Sponsored Products      Amazon   \n",
       "4  3719409171                               AI/ML Data Scientist     Experfy   \n",
       "5  3689653323  Senior Product Manager, Generative Artificial ...     MongoDB   \n",
       "6  3726772383  Site Reliability Manager - Oracle Health Data ...      Oracle   \n",
       "\n",
       "                 Location            Salary  \\\n",
       "0   New York, NY (Remote)     $139K - $248K   \n",
       "1            New York, NY     $172K - $241K   \n",
       "2            New York, NY     $170K - $220K   \n",
       "3            New York, NY     $136K - $260K   \n",
       "4  United States (Remote)  No_Salary_Listed   \n",
       "5            New York, NY  No_Salary_Listed   \n",
       "6  United States (Remote)  No_Salary_Listed   \n",
       "\n",
       "                                     Job_Description  \\\n",
       "0  About the job\\n            \\n\\n \\nFEQ124R39Thi...   \n",
       "1  About the job\\n            \\n\\n \\nFrom making ...   \n",
       "2  About the job\\n            \\n\\n \\nThe roleWe a...   \n",
       "3  About the job\\n            \\n\\n \\nDescriptionA...   \n",
       "4  About the job\\n            \\n\\n \\nThis is a 10...   \n",
       "5  About the job\\n            \\n\\n \\nThe worldwid...   \n",
       "6  About the job\\n            \\n\\n \\nJob Descript...   \n",
       "\n",
       "                                          Job_URL  \n",
       "0  https://www.linkedin.com/jobs/view/3730709243/  \n",
       "1  https://www.linkedin.com/jobs/view/3725824958/  \n",
       "2  https://www.linkedin.com/jobs/view/3726531301/  \n",
       "3  https://www.linkedin.com/jobs/view/3720387716/  \n",
       "4  https://www.linkedin.com/jobs/view/3719409171/  \n",
       "5  https://www.linkedin.com/jobs/view/3689653323/  \n",
       "6  https://www.linkedin.com/jobs/view/3726772383/  "
      ]
     },
     "execution_count": 96,
     "metadata": {},
     "output_type": "execute_result"
    }
   ],
   "source": [
    "job_listings_with_description"
   ]
  },
  {
   "cell_type": "code",
   "execution_count": 97,
   "id": "12b45af4-cc7a-4c24-a2d5-a623b452fe8e",
   "metadata": {},
   "outputs": [],
   "source": [
    "job_listings_with_description.to_csv('linkedin_job_listings_test.csv', index=False)"
   ]
  },
  {
   "cell_type": "code",
   "execution_count": null,
   "id": "fc65ff41-f93f-4615-bd39-623caae92ef5",
   "metadata": {},
   "outputs": [],
   "source": []
  },
  {
   "cell_type": "code",
   "execution_count": null,
   "id": "20d5b1ad-3088-4121-b346-1abe62b28ff2",
   "metadata": {},
   "outputs": [],
   "source": []
  }
 ],
 "metadata": {
  "kernelspec": {
   "display_name": "Python 3 (ipykernel)",
   "language": "python",
   "name": "python3"
  },
  "language_info": {
   "codemirror_mode": {
    "name": "ipython",
    "version": 3
   },
   "file_extension": ".py",
   "mimetype": "text/x-python",
   "name": "python",
   "nbconvert_exporter": "python",
   "pygments_lexer": "ipython3",
   "version": "3.9.6"
  }
 },
 "nbformat": 4,
 "nbformat_minor": 5
}
